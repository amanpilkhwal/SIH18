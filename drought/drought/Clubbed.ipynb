{
 "cells": [
  {
   "cell_type": "code",
   "execution_count": 11,
   "metadata": {},
   "outputs": [
    {
     "name": "stdout",
     "output_type": "stream",
     "text": [
      "16\n"
     ]
    }
   ],
   "source": [
    "minrain = {\"Chamba\":-0.771,\"Kangra\":-0.736,\"Kinnaur\":-0.826,\"Kullu\":-0.788,\"Lahul & Spiti\":-0.887,\"Mandi\":-0.748,\"shimla\":-0.766,\"Sirmaur\":-0.724,\"Solan\":-0.723}\n",
    "maxrain = {\"Chamba\":6.683,\"Kangra\":6.115,\"Kinnaur\":5.602,\"Kullu\":5.189,\"Lahul & Spiti\":5.397,\"Mandi\":5237,\"shimla\":4.991,\"Sirmaur\":5.345,\"Solan\":4.112}\n",
    "mincc = {\"Chamba\":-2.99,\"Kangra\":-2.65,\"Kinnaur\":-3.28,\"Kullu\":-3.17,\"Lahul & Spiti\":-3.52,\"Mandi\":-2.71,\"shimla\":-2.78,\"Sirmaur\":-2.46,\"Solan\":-2.46}\n",
    "maxcc = {\"Chamba\":2.13,\"Kangra\":2.18,\"Kinnaur\":2.8,\"Kullu\":2.54,\"Lahul & Spiti\":2.54,\"Mandi\":2.44,\"shimla\":2.67,\"Sirmaur\":2.47,\"Solan\":2.47}\n",
    "minat = {\"Chamba\":-1.89,\"Kangra\":-1.86,\"Kinnaur\":-2.29,\"Kullu\":-2.29,\"Lahul & Spiti\":-2.01,\"Mandi\":-1.97,\"shimla\":-2.16,\"Sirmaur\":-2.09,\"Solan\":-1.95}\n",
    "maxat = {\"Chamba\":1.55,\"Kangra\":1.63,\"Kinnaur\":1.57,\"Kullu\":1.57,\"Lahul & Spiti\":1.46,\"Mandi\":1.68,\"shimla\":1.67,\"Sirmaur\":1.66,\"Solan\":1.71}\n",
    "minpe = {\"Chamba\":-1.79,\"Kangra\":-1.74,\"Kinnaur\":-2.82,\"Kullu\":-1.82,\"Lahul & Spiti\":-1.84,\"Mandi\":-1.75,\"shimla\":-1.78,\"Sirmaur\":-1.75,\"Solan\":-1.72}\n",
    "maxpe = {\"Chamba\":1.82,\"Kangra\":1.97,\"Kinnaur\":2.09,\"Kullu\":2.06,\"Lahul & Spiti\":1.57,\"Mandi\":2.06,\"shimla\":2.17,\"Sirmaur\":2.17,\"Solan\":2.11}\n",
    "sdrain = {\"Chamba\":92.3,\"Kangra\":92.43,\"Kinnaur\":97.54,\"Kullu\":100.33,\"Lahul & Spiti\":72.05,\"Mandi\":96.22,\"shimla\":102.01,\"Sirmaur\":93.01,\"Solan\":80.04}\n",
    "avrain = {\"Chamba\":71.21,\"Kangra\":68.05,\"Kinnaur\":80.55,\"Kullu\":79.11,\"Lahul & Spiti\":63.89,\"Mandi\":71.98,\"shimla\":78.19,\"Sirmaur\":67.35,\"Solan\":61.46}\n",
    "sdcc = {\"Chamba\":11.81,\"Kangra\":12.39,\"Kinnaur\":11.79,\"Kullu\":11.91,\"Lahul & Spiti\":10.67,\"Mandi\":12.58,\"shimla\":12.87,\"Sirmaur\":13.58,\"Solan\":13.10}\n",
    "avcc = {\"Chamba\":36.07,\"Kangra\":32.89,\"Kinnaur\":41.57,\"Kullu\":37.92,\"Lahul & Spiti\":43.19,\"Mandi\":34.07,\"shimla\":35.85,\"Sirmaur\":33.38,\"Solan\":32.19}\n",
    "sdat = {\"Chamba\":7.11,\"Kangra\":7.20,\"Kinnaur\":5.41,\"Kullu\":5.41,\"Lahul & Spiti\":6.32,\"Mandi\":6.82,\"shimla\":6.23,\"Sirmaur\":6.75,\"Solan\":7.03}\n",
    "avat = {\"Chamba\":19.32,\"Kangra\":22.34,\"Kinnaur\":12.69,\"Kullu\":12.69,\"Lahul & Spiti\":8.92,\"Mandi\":22.07,\"shimla\":20.56,\"Sirmaur\":23.99,\"Solan\":24.32}\n",
    "sdpe = {\"Chamba\":1.674,\"Kangra\":1.626,\"Kinnaur\":1.23,\"Kullu\":1.41,\"Lahul & Spiti\":1.86,\"Mandi\":1.54,\"shimla\":1.39,\"Sirmaur\":1.46,\"Solan\":1.53}\n",
    "avpe = {\"Chamba\":5.75,\"Kangra\":6.14,\"Kinnaur\":4.65,\"Kullu\":5.35,\"Lahul & Spiti\":4.13,\"Mandi\":6.05,\"shimla\":5.76,\"Sirmaur\":6.32,\"Solan\":6.37}\n",
    "\n",
    "def club(area='Chamba',predrain = 210,predcc = 44,predtemp = 27,predpe = 8):\n",
    "    predrain = ((predrain - avrain[area])/sdrain[area])\n",
    "    predcc = ((predcc - avcc[area])/sdcc[area])\n",
    "    predtemp = ((predtemp - avat[area])/sdat[area])\n",
    "    predpe = ((predpe - avpe[area])/sdpe[area])\n",
    "    \n",
    "    diffacrain=((maxrain[area]-minrain[area])/5)\n",
    "    diffactemp=((maxat[area]-minat[area])/5)\n",
    "    diffaccc=((maxcc[area]-mincc[area])/5)\n",
    "    diffacpe=((maxpe[area]-minpe[area])/5)\n",
    "    ranrain=[]\n",
    "    rancc=[]\n",
    "    rantemp=[]\n",
    "    ranpe=[]\n",
    "    for i in range(0,5):\n",
    "        ranrain.append(minrain[area] + i*diffacrain)\n",
    "        rancc.append(mincc[area] + i*diffaccc)\n",
    "        rantemp.append(minat[area] + i*diffactemp)\n",
    "        ranpe.append(minpe[area] + i*diffacpe)\n",
    "    for i in range(0,5):\n",
    "        if ( predrain > ranrain[i] and predrain < (ranrain[i]+diffacrain)) :\n",
    "            drought1 = 5-i\n",
    "        else :\n",
    "            continue\n",
    "    for i in range(0,5):\n",
    "        if ( predcc > rancc[i] and predcc < (rancc[i]+diffaccc)) :\n",
    "            drought2 = 5-i\n",
    "        else :\n",
    "            continue\n",
    "    for i in range(0,5):\n",
    "        if ( predtemp > rantemp[i] and predtemp < (rantemp[i]+diffactemp)) :\n",
    "            drought3 = i+1\n",
    "        else :\n",
    "            continue\n",
    "    for i in range(0,5):\n",
    "        if ( predpe > ranpe[i] and predpe < (ranpe[i]+diffacpe)) :\n",
    "            drought4 = i+1\n",
    "        else :\n",
    "            continue\n",
    "    drought = drought1+drought2+drought3+drought4\n",
    "    return drought\n",
    "d=club()\n",
    "print(d)"
   ]
  },
  {
   "cell_type": "code",
   "execution_count": null,
   "metadata": {},
   "outputs": [],
   "source": []
  }
 ],
 "metadata": {
  "kernelspec": {
   "display_name": "Python 3",
   "language": "python",
   "name": "python3"
  },
  "language_info": {
   "codemirror_mode": {
    "name": "ipython",
    "version": 3
   },
   "file_extension": ".py",
   "mimetype": "text/x-python",
   "name": "python",
   "nbconvert_exporter": "python",
   "pygments_lexer": "ipython3",
   "version": "3.6.4"
  }
 },
 "nbformat": 4,
 "nbformat_minor": 2
}
